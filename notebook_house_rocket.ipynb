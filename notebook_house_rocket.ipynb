{
 "cells": [
  {
   "cell_type": "markdown",
   "id": "2d204343-9cef-4ffa-9741-cdd31e80aa3c",
   "metadata": {
    "id": "2d204343-9cef-4ffa-9741-cdd31e80aa3c"
   },
   "source": [
    "### Imports"
   ]
  },
  {
   "cell_type": "code",
   "execution_count": 1,
   "id": "a391bfa1-04e2-4992-a12f-68bd174adda5",
   "metadata": {
    "id": "a391bfa1-04e2-4992-a12f-68bd174adda5"
   },
   "outputs": [],
   "source": [
    "import pandas as pd\n",
    "import streamlit as st\n",
    "import numpy as np\n",
    "import folium\n",
    "import geopandas\n",
    "import plotly.express as px\n",
    "import seaborn as sns\n",
    "from datetime import datetime\n",
    "from matplotlib import pyplot as plt\n",
    "from streamlit_folium import folium_static\n",
    "from folium.plugins import MarkerCluster \n",
    "from operator import index\n",
    "from statistics import mean "
   ]
  },
  {
   "cell_type": "code",
   "execution_count": 2,
   "id": "b33d2748-b831-498e-9539-ce43190e84fc",
   "metadata": {
    "id": "b33d2748-b831-498e-9539-ce43190e84fc"
   },
   "outputs": [],
   "source": [
    "st.set_page_config(layout='wide')"
   ]
  },
  {
   "cell_type": "markdown",
   "id": "628ae26b-8833-4b9b-910d-6e00e9d77359",
   "metadata": {
    "id": "628ae26b-8833-4b9b-910d-6e00e9d77359"
   },
   "source": [
    "### Loading data"
   ]
  },
  {
   "cell_type": "code",
   "execution_count": 3,
   "id": "b06b95a7-04cb-41b3-90a7-e1583a778722",
   "metadata": {
    "id": "b06b95a7-04cb-41b3-90a7-e1583a778722"
   },
   "outputs": [],
   "source": [
    "path = 'kc_house_data.csv'\n",
    "data = pd.read_csv(path)"
   ]
  },
  {
   "cell_type": "code",
   "execution_count": 4,
   "id": "d9c37c11-9123-4da2-898e-ef7c9684241d",
   "metadata": {
    "colab": {
     "base_uri": "https://localhost:8080/",
     "height": 299
    },
    "id": "d9c37c11-9123-4da2-898e-ef7c9684241d",
    "outputId": "d97284c1-171b-413d-c5d2-a4c42b6cf9e7"
   },
   "outputs": [
    {
     "data": {
      "text/html": [
       "<div>\n",
       "<style scoped>\n",
       "    .dataframe tbody tr th:only-of-type {\n",
       "        vertical-align: middle;\n",
       "    }\n",
       "\n",
       "    .dataframe tbody tr th {\n",
       "        vertical-align: top;\n",
       "    }\n",
       "\n",
       "    .dataframe thead th {\n",
       "        text-align: right;\n",
       "    }\n",
       "</style>\n",
       "<table border=\"1\" class=\"dataframe\">\n",
       "  <thead>\n",
       "    <tr style=\"text-align: right;\">\n",
       "      <th></th>\n",
       "      <th>id</th>\n",
       "      <th>date</th>\n",
       "      <th>price</th>\n",
       "      <th>bedrooms</th>\n",
       "      <th>bathrooms</th>\n",
       "      <th>sqft_living</th>\n",
       "      <th>sqft_lot</th>\n",
       "      <th>floors</th>\n",
       "      <th>waterfront</th>\n",
       "      <th>view</th>\n",
       "      <th>...</th>\n",
       "      <th>grade</th>\n",
       "      <th>sqft_above</th>\n",
       "      <th>sqft_basement</th>\n",
       "      <th>yr_built</th>\n",
       "      <th>yr_renovated</th>\n",
       "      <th>zipcode</th>\n",
       "      <th>lat</th>\n",
       "      <th>long</th>\n",
       "      <th>sqft_living15</th>\n",
       "      <th>sqft_lot15</th>\n",
       "    </tr>\n",
       "  </thead>\n",
       "  <tbody>\n",
       "    <tr>\n",
       "      <th>0</th>\n",
       "      <td>7129300520</td>\n",
       "      <td>20141013T000000</td>\n",
       "      <td>221900.0</td>\n",
       "      <td>3</td>\n",
       "      <td>1.00</td>\n",
       "      <td>1180</td>\n",
       "      <td>5650</td>\n",
       "      <td>1.0</td>\n",
       "      <td>0</td>\n",
       "      <td>0</td>\n",
       "      <td>...</td>\n",
       "      <td>7</td>\n",
       "      <td>1180</td>\n",
       "      <td>0</td>\n",
       "      <td>1955</td>\n",
       "      <td>0</td>\n",
       "      <td>98178</td>\n",
       "      <td>47.5112</td>\n",
       "      <td>-122.257</td>\n",
       "      <td>1340</td>\n",
       "      <td>5650</td>\n",
       "    </tr>\n",
       "    <tr>\n",
       "      <th>1</th>\n",
       "      <td>6414100192</td>\n",
       "      <td>20141209T000000</td>\n",
       "      <td>538000.0</td>\n",
       "      <td>3</td>\n",
       "      <td>2.25</td>\n",
       "      <td>2570</td>\n",
       "      <td>7242</td>\n",
       "      <td>2.0</td>\n",
       "      <td>0</td>\n",
       "      <td>0</td>\n",
       "      <td>...</td>\n",
       "      <td>7</td>\n",
       "      <td>2170</td>\n",
       "      <td>400</td>\n",
       "      <td>1951</td>\n",
       "      <td>1991</td>\n",
       "      <td>98125</td>\n",
       "      <td>47.7210</td>\n",
       "      <td>-122.319</td>\n",
       "      <td>1690</td>\n",
       "      <td>7639</td>\n",
       "    </tr>\n",
       "    <tr>\n",
       "      <th>2</th>\n",
       "      <td>5631500400</td>\n",
       "      <td>20150225T000000</td>\n",
       "      <td>180000.0</td>\n",
       "      <td>2</td>\n",
       "      <td>1.00</td>\n",
       "      <td>770</td>\n",
       "      <td>10000</td>\n",
       "      <td>1.0</td>\n",
       "      <td>0</td>\n",
       "      <td>0</td>\n",
       "      <td>...</td>\n",
       "      <td>6</td>\n",
       "      <td>770</td>\n",
       "      <td>0</td>\n",
       "      <td>1933</td>\n",
       "      <td>0</td>\n",
       "      <td>98028</td>\n",
       "      <td>47.7379</td>\n",
       "      <td>-122.233</td>\n",
       "      <td>2720</td>\n",
       "      <td>8062</td>\n",
       "    </tr>\n",
       "    <tr>\n",
       "      <th>3</th>\n",
       "      <td>2487200875</td>\n",
       "      <td>20141209T000000</td>\n",
       "      <td>604000.0</td>\n",
       "      <td>4</td>\n",
       "      <td>3.00</td>\n",
       "      <td>1960</td>\n",
       "      <td>5000</td>\n",
       "      <td>1.0</td>\n",
       "      <td>0</td>\n",
       "      <td>0</td>\n",
       "      <td>...</td>\n",
       "      <td>7</td>\n",
       "      <td>1050</td>\n",
       "      <td>910</td>\n",
       "      <td>1965</td>\n",
       "      <td>0</td>\n",
       "      <td>98136</td>\n",
       "      <td>47.5208</td>\n",
       "      <td>-122.393</td>\n",
       "      <td>1360</td>\n",
       "      <td>5000</td>\n",
       "    </tr>\n",
       "    <tr>\n",
       "      <th>4</th>\n",
       "      <td>1954400510</td>\n",
       "      <td>20150218T000000</td>\n",
       "      <td>510000.0</td>\n",
       "      <td>3</td>\n",
       "      <td>2.00</td>\n",
       "      <td>1680</td>\n",
       "      <td>8080</td>\n",
       "      <td>1.0</td>\n",
       "      <td>0</td>\n",
       "      <td>0</td>\n",
       "      <td>...</td>\n",
       "      <td>8</td>\n",
       "      <td>1680</td>\n",
       "      <td>0</td>\n",
       "      <td>1987</td>\n",
       "      <td>0</td>\n",
       "      <td>98074</td>\n",
       "      <td>47.6168</td>\n",
       "      <td>-122.045</td>\n",
       "      <td>1800</td>\n",
       "      <td>7503</td>\n",
       "    </tr>\n",
       "  </tbody>\n",
       "</table>\n",
       "<p>5 rows × 21 columns</p>\n",
       "</div>"
      ],
      "text/plain": [
       "           id             date     price  bedrooms  bathrooms  sqft_living  \\\n",
       "0  7129300520  20141013T000000  221900.0         3       1.00         1180   \n",
       "1  6414100192  20141209T000000  538000.0         3       2.25         2570   \n",
       "2  5631500400  20150225T000000  180000.0         2       1.00          770   \n",
       "3  2487200875  20141209T000000  604000.0         4       3.00         1960   \n",
       "4  1954400510  20150218T000000  510000.0         3       2.00         1680   \n",
       "\n",
       "   sqft_lot  floors  waterfront  view  ...  grade  sqft_above  sqft_basement  \\\n",
       "0      5650     1.0           0     0  ...      7        1180              0   \n",
       "1      7242     2.0           0     0  ...      7        2170            400   \n",
       "2     10000     1.0           0     0  ...      6         770              0   \n",
       "3      5000     1.0           0     0  ...      7        1050            910   \n",
       "4      8080     1.0           0     0  ...      8        1680              0   \n",
       "\n",
       "   yr_built  yr_renovated  zipcode      lat     long  sqft_living15  \\\n",
       "0      1955             0    98178  47.5112 -122.257           1340   \n",
       "1      1951          1991    98125  47.7210 -122.319           1690   \n",
       "2      1933             0    98028  47.7379 -122.233           2720   \n",
       "3      1965             0    98136  47.5208 -122.393           1360   \n",
       "4      1987             0    98074  47.6168 -122.045           1800   \n",
       "\n",
       "   sqft_lot15  \n",
       "0        5650  \n",
       "1        7639  \n",
       "2        8062  \n",
       "3        5000  \n",
       "4        7503  \n",
       "\n",
       "[5 rows x 21 columns]"
      ]
     },
     "execution_count": 4,
     "metadata": {},
     "output_type": "execute_result"
    }
   ],
   "source": [
    "data.head()"
   ]
  },
  {
   "cell_type": "markdown",
   "id": "bec20c8a-cad2-4ed3-b470-48578c077cba",
   "metadata": {
    "id": "bec20c8a-cad2-4ed3-b470-48578c077cba"
   },
   "source": [
    "### Dropping duplicates and Outliers"
   ]
  },
  {
   "cell_type": "code",
   "execution_count": 5,
   "id": "5c109d77-8356-482e-af10-60322d652525",
   "metadata": {
    "id": "5c109d77-8356-482e-af10-60322d652525"
   },
   "outputs": [],
   "source": [
    "data = data.drop_duplicates(subset='id', keep='last')\n",
    "data = data[data['bedrooms'] != 33]\n",
    "data.drop(columns=['sqft_living15','sqft_lot15'], inplace=True)"
   ]
  },
  {
   "cell_type": "markdown",
   "id": "3a248a26-1b71-439c-9054-e4aa8d7e5409",
   "metadata": {
    "id": "3a248a26-1b71-439c-9054-e4aa8d7e5409"
   },
   "source": [
    "### Data Dimension"
   ]
  },
  {
   "cell_type": "code",
   "execution_count": 6,
   "id": "1c6f54bc-4473-4f78-995d-6e0984b1c815",
   "metadata": {
    "colab": {
     "base_uri": "https://localhost:8080/"
    },
    "id": "1c6f54bc-4473-4f78-995d-6e0984b1c815",
    "outputId": "85c26188-fab7-41d1-84e2-3489bbfaf027"
   },
   "outputs": [
    {
     "name": "stdout",
     "output_type": "stream",
     "text": [
      "Number of rows: 21435\n",
      "Number of columns: 19\n"
     ]
    }
   ],
   "source": [
    "print('Number of rows: {}' .format (data.shape[0]))\n",
    "print('Number of columns: {}' .format (data.shape[1]))"
   ]
  },
  {
   "cell_type": "markdown",
   "id": "25175057-ad55-4eb6-a26c-0ed2f33bfadc",
   "metadata": {
    "id": "25175057-ad55-4eb6-a26c-0ed2f33bfadc"
   },
   "source": [
    "### Set feature"
   ]
  },
  {
   "cell_type": "code",
   "execution_count": 7,
   "id": "b226ce94-bd32-425a-b001-0c54059944c3",
   "metadata": {
    "id": "b226ce94-bd32-425a-b001-0c54059944c3"
   },
   "outputs": [],
   "source": [
    "data['date'] = pd.to_datetime( data['date'] ).dt.strftime( '%Y-%m-%d')\n",
    "data['sqft_living'] = data['sqft_living'].apply(lambda x: x*0.09290304)\n",
    "data['sqft_lot'] = data['sqft_lot'].apply(lambda x: x*0.09290304)\n",
    "data['sqft_above'] = data['sqft_above'].apply(lambda x: x*0.09290304)\n",
    "data['sqft_basement'] = data['sqft_basement'].apply(lambda x: x*0.09290304)\n",
    "data['price_m2'] = data['price'] / data['sqft_lot']\n",
    "data['month'] = pd.DatetimeIndex(data['date']).month\n",
    "data['season'] = data['month'].apply(lambda x: 'autumn' if (x >=9 ) & (x <= 11) else\n",
    "                                                'spring' if (x >=3 ) & (x <= 5) else\n",
    "                                                'summer' if (x >=6 ) & (x <= 8) else\n",
    "                                                'winter' )\n",
    "data.rename(columns = {'sqft_living': 'm2_living','sqft_lot':'m2_lot','sqft_above':'m2_above','sqft_basement':'m2_basement'}, inplace=True) "
   ]
  },
  {
   "cell_type": "code",
   "execution_count": 8,
   "id": "f9e31787-9615-481c-a35f-076494984240",
   "metadata": {
    "colab": {
     "base_uri": "https://localhost:8080/"
    },
    "id": "f9e31787-9615-481c-a35f-076494984240",
    "outputId": "962863c3-cec2-42fe-88b7-05760afb6659"
   },
   "outputs": [
    {
     "data": {
      "text/plain": [
       "id                int64\n",
       "date             object\n",
       "price           float64\n",
       "bedrooms          int64\n",
       "bathrooms       float64\n",
       "m2_living       float64\n",
       "m2_lot          float64\n",
       "floors          float64\n",
       "waterfront        int64\n",
       "view              int64\n",
       "condition         int64\n",
       "grade             int64\n",
       "m2_above        float64\n",
       "m2_basement     float64\n",
       "yr_built          int64\n",
       "yr_renovated      int64\n",
       "zipcode           int64\n",
       "lat             float64\n",
       "long            float64\n",
       "price_m2        float64\n",
       "month             int64\n",
       "season           object\n",
       "dtype: object"
      ]
     },
     "execution_count": 8,
     "metadata": {},
     "output_type": "execute_result"
    }
   ],
   "source": [
    "data.dtypes"
   ]
  },
  {
   "cell_type": "markdown",
   "id": "4321c7ef-175b-4b5e-98ef-afb568280f3f",
   "metadata": {
    "id": "4321c7ef-175b-4b5e-98ef-afb568280f3f"
   },
   "source": [
    "### Statistics Analysis"
   ]
  },
  {
   "cell_type": "code",
   "execution_count": 9,
   "id": "dbc37edc-8492-472a-8704-65fe809316fd",
   "metadata": {
    "id": "dbc37edc-8492-472a-8704-65fe809316fd"
   },
   "outputs": [],
   "source": [
    "#Statistic Analysis\n",
    "num_atributes = data.select_dtypes(include=['int64', 'float64'])\n",
    "media = pd.DataFrame(num_atributes.apply(np.mean))\n",
    "mediana = pd.DataFrame(num_atributes.apply(np.median))\n",
    "std = pd.DataFrame(num_atributes.apply(np.std))\n",
    "max_ = pd.DataFrame(num_atributes.apply(np.max))\n",
    "min_ = pd.DataFrame(num_atributes.apply(np.min))\n",
    "\n",
    "df1 = pd.concat([max_, min_, media, mediana, std], axis=1).reset_index()\n",
    "df1.columns = ['atributes', 'max', 'min', 'media', 'median', 'std']"
   ]
  },
  {
   "cell_type": "code",
   "execution_count": 10,
   "id": "2c95b39d-0070-48e1-b2ff-0e02888c099e",
   "metadata": {
    "colab": {
     "base_uri": "https://localhost:8080/",
     "height": 206
    },
    "id": "2c95b39d-0070-48e1-b2ff-0e02888c099e",
    "outputId": "2f4526b6-f632-452f-fd21-ce17c6fb8429"
   },
   "outputs": [
    {
     "data": {
      "text/html": [
       "<div>\n",
       "<style scoped>\n",
       "    .dataframe tbody tr th:only-of-type {\n",
       "        vertical-align: middle;\n",
       "    }\n",
       "\n",
       "    .dataframe tbody tr th {\n",
       "        vertical-align: top;\n",
       "    }\n",
       "\n",
       "    .dataframe thead th {\n",
       "        text-align: right;\n",
       "    }\n",
       "</style>\n",
       "<table border=\"1\" class=\"dataframe\">\n",
       "  <thead>\n",
       "    <tr style=\"text-align: right;\">\n",
       "      <th></th>\n",
       "      <th>atributes</th>\n",
       "      <th>max</th>\n",
       "      <th>min</th>\n",
       "      <th>media</th>\n",
       "      <th>median</th>\n",
       "      <th>std</th>\n",
       "    </tr>\n",
       "  </thead>\n",
       "  <tbody>\n",
       "    <tr>\n",
       "      <th>0</th>\n",
       "      <td>id</td>\n",
       "      <td>9.900000e+09</td>\n",
       "      <td>1.000102e+06</td>\n",
       "      <td>4.580867e+09</td>\n",
       "      <td>3.904921e+09</td>\n",
       "      <td>2.876551e+09</td>\n",
       "    </tr>\n",
       "    <tr>\n",
       "      <th>1</th>\n",
       "      <td>price</td>\n",
       "      <td>7.700000e+06</td>\n",
       "      <td>7.500000e+04</td>\n",
       "      <td>5.416454e+05</td>\n",
       "      <td>4.500000e+05</td>\n",
       "      <td>3.673143e+05</td>\n",
       "    </tr>\n",
       "    <tr>\n",
       "      <th>2</th>\n",
       "      <td>bedrooms</td>\n",
       "      <td>1.100000e+01</td>\n",
       "      <td>0.000000e+00</td>\n",
       "      <td>3.370189e+00</td>\n",
       "      <td>3.000000e+00</td>\n",
       "      <td>9.068989e-01</td>\n",
       "    </tr>\n",
       "    <tr>\n",
       "      <th>3</th>\n",
       "      <td>bathrooms</td>\n",
       "      <td>8.000000e+00</td>\n",
       "      <td>0.000000e+00</td>\n",
       "      <td>2.117366e+00</td>\n",
       "      <td>2.250000e+00</td>\n",
       "      <td>7.699087e-01</td>\n",
       "    </tr>\n",
       "    <tr>\n",
       "      <th>4</th>\n",
       "      <td>m2_living</td>\n",
       "      <td>1.257907e+03</td>\n",
       "      <td>2.694188e+01</td>\n",
       "      <td>1.934916e+02</td>\n",
       "      <td>1.783738e+02</td>\n",
       "      <td>8.539100e+01</td>\n",
       "    </tr>\n",
       "  </tbody>\n",
       "</table>\n",
       "</div>"
      ],
      "text/plain": [
       "   atributes           max           min         media        median  \\\n",
       "0         id  9.900000e+09  1.000102e+06  4.580867e+09  3.904921e+09   \n",
       "1      price  7.700000e+06  7.500000e+04  5.416454e+05  4.500000e+05   \n",
       "2   bedrooms  1.100000e+01  0.000000e+00  3.370189e+00  3.000000e+00   \n",
       "3  bathrooms  8.000000e+00  0.000000e+00  2.117366e+00  2.250000e+00   \n",
       "4  m2_living  1.257907e+03  2.694188e+01  1.934916e+02  1.783738e+02   \n",
       "\n",
       "            std  \n",
       "0  2.876551e+09  \n",
       "1  3.673143e+05  \n",
       "2  9.068989e-01  \n",
       "3  7.699087e-01  \n",
       "4  8.539100e+01  "
      ]
     },
     "execution_count": 10,
     "metadata": {},
     "output_type": "execute_result"
    }
   ],
   "source": [
    "df1.head()"
   ]
  },
  {
   "cell_type": "markdown",
   "id": "3a0bd4d6-0818-4792-9104-50d51b6ae1b0",
   "metadata": {
    "id": "3a0bd4d6-0818-4792-9104-50d51b6ae1b0"
   },
   "source": [
    "### Numerical Variables"
   ]
  },
  {
   "cell_type": "code",
   "execution_count": 11,
   "id": "359c6ed0-4449-42bd-abd5-bc091e816bde",
   "metadata": {
    "colab": {
     "base_uri": "https://localhost:8080/",
     "height": 657
    },
    "id": "359c6ed0-4449-42bd-abd5-bc091e816bde",
    "outputId": "67d00092-0a05-4795-d111-8d59d29693e1"
   },
   "outputs": [
    {
     "data": {
      "image/png": "[encoded data removed]",
      "text/plain": [
       "<Figure size 1152x648 with 20 Axes>"
      ]
     },
     "metadata": {
      "needs_background": "light"
     },
     "output_type": "display_data"
    }
   ],
   "source": [
    "h1 = data.select_dtypes(include=['int64','float64'])\n",
    "h1.hist(figsize=(16,9), bins=40)\n",
    "plt.tight_layout()"
   ]
  },
  {
   "cell_type": "markdown",
   "id": "34c47d52-7469-49b8-bb10-a9cecaacf99d",
   "metadata": {
    "id": "34c47d52-7469-49b8-bb10-a9cecaacf99d"
   },
   "source": [
    "### Averege Metrics per ZIPCODE"
   ]
  },
  {
   "cell_type": "code",
   "execution_count": 12,
   "id": "15374dca-d002-4b9f-addc-baf2bdc918d0",
   "metadata": {
    "id": "15374dca-d002-4b9f-addc-baf2bdc918d0"
   },
   "outputs": [],
   "source": [
    "#Average Metrics\n",
    "df1 = data[['id', 'zipcode']].groupby('zipcode').count().reset_index()\n",
    "df2 = data[['price', 'zipcode']].groupby('zipcode').mean().reset_index()\n",
    "df3 = data[['m2_living', 'zipcode']].groupby('zipcode').mean().reset_index()\n",
    "df4 = data[['price_m2', 'zipcode']].groupby('zipcode').mean().reset_index()\n",
    "\n",
    "#Merge\n",
    "m1 = pd.merge(df1, df2, on='zipcode', how='inner')\n",
    "m2 = pd.merge(m1, df3, on='zipcode', how='inner')\n",
    "df = pd.merge(m2, df4, on='zipcode', how='inner')\n"
   ]
  },
  {
   "cell_type": "code",
   "execution_count": 13,
   "id": "213e4640-14c2-4353-9b74-29193e2b1c1e",
   "metadata": {
    "colab": {
     "base_uri": "https://localhost:8080/",
     "height": 206
    },
    "id": "213e4640-14c2-4353-9b74-29193e2b1c1e",
    "outputId": "24e7c99f-9e24-4997-b22a-531838f441c0"
   },
   "outputs": [
    {
     "data": {
      "text/html": [
       "<div>\n",
       "<style scoped>\n",
       "    .dataframe tbody tr th:only-of-type {\n",
       "        vertical-align: middle;\n",
       "    }\n",
       "\n",
       "    .dataframe tbody tr th {\n",
       "        vertical-align: top;\n",
       "    }\n",
       "\n",
       "    .dataframe thead th {\n",
       "        text-align: right;\n",
       "    }\n",
       "</style>\n",
       "<table border=\"1\" class=\"dataframe\">\n",
       "  <thead>\n",
       "    <tr style=\"text-align: right;\">\n",
       "      <th></th>\n",
       "      <th>zipcode</th>\n",
       "      <th>id</th>\n",
       "      <th>price</th>\n",
       "      <th>m2_living</th>\n",
       "      <th>price_m2</th>\n",
       "    </tr>\n",
       "  </thead>\n",
       "  <tbody>\n",
       "    <tr>\n",
       "      <th>0</th>\n",
       "      <td>98001</td>\n",
       "      <td>359</td>\n",
       "      <td>2.818724e+05</td>\n",
       "      <td>177.007463</td>\n",
       "      <td>334.196596</td>\n",
       "    </tr>\n",
       "    <tr>\n",
       "      <th>1</th>\n",
       "      <td>98002</td>\n",
       "      <td>197</td>\n",
       "      <td>2.346067e+05</td>\n",
       "      <td>151.191916</td>\n",
       "      <td>402.662955</td>\n",
       "    </tr>\n",
       "    <tr>\n",
       "      <th>2</th>\n",
       "      <td>98003</td>\n",
       "      <td>276</td>\n",
       "      <td>2.958119e+05</td>\n",
       "      <td>179.436499</td>\n",
       "      <td>357.484627</td>\n",
       "    </tr>\n",
       "    <tr>\n",
       "      <th>3</th>\n",
       "      <td>98004</td>\n",
       "      <td>315</td>\n",
       "      <td>1.355387e+06</td>\n",
       "      <td>270.415680</td>\n",
       "      <td>1322.173815</td>\n",
       "    </tr>\n",
       "    <tr>\n",
       "      <th>4</th>\n",
       "      <td>98005</td>\n",
       "      <td>168</td>\n",
       "      <td>8.101649e+05</td>\n",
       "      <td>246.825128</td>\n",
       "      <td>655.721912</td>\n",
       "    </tr>\n",
       "  </tbody>\n",
       "</table>\n",
       "</div>"
      ],
      "text/plain": [
       "   zipcode   id         price   m2_living     price_m2\n",
       "0    98001  359  2.818724e+05  177.007463   334.196596\n",
       "1    98002  197  2.346067e+05  151.191916   402.662955\n",
       "2    98003  276  2.958119e+05  179.436499   357.484627\n",
       "3    98004  315  1.355387e+06  270.415680  1322.173815\n",
       "4    98005  168  8.101649e+05  246.825128   655.721912"
      ]
     },
     "execution_count": 13,
     "metadata": {},
     "output_type": "execute_result"
    }
   ],
   "source": [
    "df.head()"
   ]
  },
  {
   "cell_type": "markdown",
   "id": "76becb0a-9daf-4c4e-9a46-c40df8fa651a",
   "metadata": {
    "id": "76becb0a-9daf-4c4e-9a46-c40df8fa651a"
   },
   "source": [
    "### Status: buy / not buy"
   ]
  },
  {
   "cell_type": "code",
   "execution_count": 14,
   "id": "93c86b1a-ba54-4aff-9a70-6794828a4471",
   "metadata": {
    "id": "93c86b1a-ba54-4aff-9a70-6794828a4471"
   },
   "outputs": [],
   "source": [
    "df = data[['zipcode', 'price', 'season']].groupby(['zipcode']).median().reset_index().rename(columns ={'price': 'median_price'})\n",
    "data= pd.merge( df, data, on='zipcode', how='inner')\n",
    "data['status'] = data[['price', 'median_price', 'condition']].apply(lambda x: 1 if ((x['price'] <= x['median_price']) & (x['condition'] > 3))\n",
    "                                                                                else 0 if (x['price'] > x['median_price']) \n",
    "                                                                                else 0 , axis=1)"
   ]
  },
  {
   "cell_type": "code",
   "execution_count": 15,
   "id": "d95bdfdf-5da2-480e-9785-4a1233fb4dbd",
   "metadata": {
    "colab": {
     "base_uri": "https://localhost:8080/"
    },
    "id": "d95bdfdf-5da2-480e-9785-4a1233fb4dbd",
    "outputId": "185b09b4-2cb4-4280-8e5d-8d14e81d3665"
   },
   "outputs": [
    {
     "name": "stdout",
     "output_type": "stream",
     "text": [
      "Total investment amount.: 1,517,762,900.00\n",
      "Total amount saved: 375,041,788.50\n"
     ]
    }
   ],
   "source": [
    "df2 = data[(data['status'] == 1 )][['id', 'date', 'zipcode', 'price' , 'median_price','status', 'condition','season', 'lat', 'long',]].reset_index(drop=True)\n",
    "value_saved = df2.apply(lambda x : x['median_price'] - x['price'], axis=1).sum()\n",
    "value_total = df2['price'].sum()\n",
    "print(f'Total investment amount.: {value_total:,.2f}')\n",
    "print(f'Total amount saved: {value_saved:,.2f}')"
   ]
  },
  {
   "cell_type": "code",
   "execution_count": null,
   "id": "7ee58de0-c0fe-41a1-8bf2-3a8655fd0ed9",
   "metadata": {},
   "outputs": [],
   "source": []
  },
  {
   "cell_type": "markdown",
   "id": "770914d6-d7e7-4ffc-b357-bdf13461d61d",
   "metadata": {
    "id": "770914d6-d7e7-4ffc-b357-bdf13461d61d"
   },
   "source": [
    "### Selling price suggestion"
   ]
  },
  {
   "cell_type": "code",
   "execution_count": 16,
   "id": "aca22efc-b678-4ab5-9db5-ba99ac1340f1",
   "metadata": {
    "colab": {
     "base_uri": "https://localhost:8080/"
    },
    "id": "aca22efc-b678-4ab5-9db5-ba99ac1340f1",
    "outputId": "01d609ab-8e35-4c97-b7f8-16014ad425e6"
   },
   "outputs": [
    {
     "name": "stdout",
     "output_type": "stream",
     "text": [
      "Total value return: 277,465,277.80\n"
     ]
    }
   ],
   "source": [
    "df3 = df2[['id', 'price', 'zipcode','season']].copy()\n",
    "df_sell= df3[['price', 'zipcode','season']].groupby(['zipcode', 'season']).median().reset_index().rename(columns ={'price': 'median_price'})\n",
    "df_sell = pd.merge(df3, df_sell, on=['zipcode', 'season'], how='inner')\n",
    "\n",
    "\n",
    "\n",
    "df_sell['sugg_price'] = df_sell[['price', 'median_price']].apply(lambda x: (x['price']*1.3) if x['price'] < x['median_price']\n",
    "                                                                                        else (x['price']*1.1), axis=1) \n",
    "\n",
    "\n",
    "\n",
    "df_sell['profit'] = df_sell['sugg_price'] - df_sell['price']\n",
    "\n",
    "\n",
    "total_sell = df_sell['profit'].sum()\n",
    "perc = ((df_sell['sugg_price'].sum()) - df_sell[ 'price'].sum()) / df_sell[ 'price'].sum()\n",
    "#print(f'Total return over investment: {perc:.2%}')\n",
    "print(f'Total value return: {total_sell:,.2f}')\n",
    "    "
   ]
  },
  {
   "cell_type": "code",
   "execution_count": 17,
   "id": "30092872-9bd0-483c-b10d-ae613257cf84",
   "metadata": {},
   "outputs": [
    {
     "data": {
      "text/html": [
       "<div>\n",
       "<style scoped>\n",
       "    .dataframe tbody tr th:only-of-type {\n",
       "        vertical-align: middle;\n",
       "    }\n",
       "\n",
       "    .dataframe tbody tr th {\n",
       "        vertical-align: top;\n",
       "    }\n",
       "\n",
       "    .dataframe thead th {\n",
       "        text-align: right;\n",
       "    }\n",
       "</style>\n",
       "<table border=\"1\" class=\"dataframe\">\n",
       "  <thead>\n",
       "    <tr style=\"text-align: right;\">\n",
       "      <th></th>\n",
       "      <th>id</th>\n",
       "      <th>price</th>\n",
       "      <th>zipcode</th>\n",
       "      <th>season</th>\n",
       "      <th>median_price</th>\n",
       "      <th>sugg_price</th>\n",
       "      <th>profit</th>\n",
       "    </tr>\n",
       "  </thead>\n",
       "  <tbody>\n",
       "    <tr>\n",
       "      <th>0</th>\n",
       "      <td>9262800171</td>\n",
       "      <td>252000.0</td>\n",
       "      <td>98001</td>\n",
       "      <td>spring</td>\n",
       "      <td>212750.0</td>\n",
       "      <td>277200.0</td>\n",
       "      <td>25200.0</td>\n",
       "    </tr>\n",
       "    <tr>\n",
       "      <th>1</th>\n",
       "      <td>5402100045</td>\n",
       "      <td>189950.0</td>\n",
       "      <td>98001</td>\n",
       "      <td>spring</td>\n",
       "      <td>212750.0</td>\n",
       "      <td>246935.0</td>\n",
       "      <td>56985.0</td>\n",
       "    </tr>\n",
       "    <tr>\n",
       "      <th>2</th>\n",
       "      <td>5556800260</td>\n",
       "      <td>230000.0</td>\n",
       "      <td>98001</td>\n",
       "      <td>spring</td>\n",
       "      <td>212750.0</td>\n",
       "      <td>253000.0</td>\n",
       "      <td>23000.0</td>\n",
       "    </tr>\n",
       "    <tr>\n",
       "      <th>3</th>\n",
       "      <td>303000445</td>\n",
       "      <td>175000.0</td>\n",
       "      <td>98001</td>\n",
       "      <td>spring</td>\n",
       "      <td>212750.0</td>\n",
       "      <td>227500.0</td>\n",
       "      <td>52500.0</td>\n",
       "    </tr>\n",
       "    <tr>\n",
       "      <th>4</th>\n",
       "      <td>3750605349</td>\n",
       "      <td>210500.0</td>\n",
       "      <td>98001</td>\n",
       "      <td>spring</td>\n",
       "      <td>212750.0</td>\n",
       "      <td>273650.0</td>\n",
       "      <td>63150.0</td>\n",
       "    </tr>\n",
       "    <tr>\n",
       "      <th>...</th>\n",
       "      <td>...</td>\n",
       "      <td>...</td>\n",
       "      <td>...</td>\n",
       "      <td>...</td>\n",
       "      <td>...</td>\n",
       "      <td>...</td>\n",
       "      <td>...</td>\n",
       "    </tr>\n",
       "    <tr>\n",
       "      <th>3839</th>\n",
       "      <td>1370804461</td>\n",
       "      <td>565000.0</td>\n",
       "      <td>98199</td>\n",
       "      <td>spring</td>\n",
       "      <td>589000.0</td>\n",
       "      <td>734500.0</td>\n",
       "      <td>169500.0</td>\n",
       "    </tr>\n",
       "    <tr>\n",
       "      <th>3840</th>\n",
       "      <td>5037300130</td>\n",
       "      <td>672500.0</td>\n",
       "      <td>98199</td>\n",
       "      <td>spring</td>\n",
       "      <td>589000.0</td>\n",
       "      <td>739750.0</td>\n",
       "      <td>67250.0</td>\n",
       "    </tr>\n",
       "    <tr>\n",
       "      <th>3841</th>\n",
       "      <td>6821102385</td>\n",
       "      <td>334000.0</td>\n",
       "      <td>98199</td>\n",
       "      <td>spring</td>\n",
       "      <td>589000.0</td>\n",
       "      <td>434200.0</td>\n",
       "      <td>100200.0</td>\n",
       "    </tr>\n",
       "    <tr>\n",
       "      <th>3842</th>\n",
       "      <td>8127700210</td>\n",
       "      <td>600000.0</td>\n",
       "      <td>98199</td>\n",
       "      <td>spring</td>\n",
       "      <td>589000.0</td>\n",
       "      <td>660000.0</td>\n",
       "      <td>60000.0</td>\n",
       "    </tr>\n",
       "    <tr>\n",
       "      <th>3843</th>\n",
       "      <td>6822100155</td>\n",
       "      <td>630000.0</td>\n",
       "      <td>98199</td>\n",
       "      <td>spring</td>\n",
       "      <td>589000.0</td>\n",
       "      <td>693000.0</td>\n",
       "      <td>63000.0</td>\n",
       "    </tr>\n",
       "  </tbody>\n",
       "</table>\n",
       "<p>3844 rows × 7 columns</p>\n",
       "</div>"
      ],
      "text/plain": [
       "              id     price  zipcode  season  median_price  sugg_price  \\\n",
       "0     9262800171  252000.0    98001  spring      212750.0    277200.0   \n",
       "1     5402100045  189950.0    98001  spring      212750.0    246935.0   \n",
       "2     5556800260  230000.0    98001  spring      212750.0    253000.0   \n",
       "3      303000445  175000.0    98001  spring      212750.0    227500.0   \n",
       "4     3750605349  210500.0    98001  spring      212750.0    273650.0   \n",
       "...          ...       ...      ...     ...           ...         ...   \n",
       "3839  1370804461  565000.0    98199  spring      589000.0    734500.0   \n",
       "3840  5037300130  672500.0    98199  spring      589000.0    739750.0   \n",
       "3841  6821102385  334000.0    98199  spring      589000.0    434200.0   \n",
       "3842  8127700210  600000.0    98199  spring      589000.0    660000.0   \n",
       "3843  6822100155  630000.0    98199  spring      589000.0    693000.0   \n",
       "\n",
       "        profit  \n",
       "0      25200.0  \n",
       "1      56985.0  \n",
       "2      23000.0  \n",
       "3      52500.0  \n",
       "4      63150.0  \n",
       "...        ...  \n",
       "3839  169500.0  \n",
       "3840   67250.0  \n",
       "3841  100200.0  \n",
       "3842   60000.0  \n",
       "3843   63000.0  \n",
       "\n",
       "[3844 rows x 7 columns]"
      ]
     },
     "execution_count": 17,
     "metadata": {},
     "output_type": "execute_result"
    }
   ],
   "source": [
    "df_sell"
   ]
  },
  {
   "cell_type": "markdown",
   "id": "5b538fa7-f00e-47a5-842d-5db273ecf6ce",
   "metadata": {},
   "source": [
    "### Profit by season"
   ]
  },
  {
   "cell_type": "code",
   "execution_count": 42,
   "id": "f76ff96e-14ae-4a8d-b298-e77214bf3e9f",
   "metadata": {},
   "outputs": [
    {
     "data": {
      "text/html": [
       "<div>\n",
       "<style scoped>\n",
       "    .dataframe tbody tr th:only-of-type {\n",
       "        vertical-align: middle;\n",
       "    }\n",
       "\n",
       "    .dataframe tbody tr th {\n",
       "        vertical-align: top;\n",
       "    }\n",
       "\n",
       "    .dataframe thead th {\n",
       "        text-align: right;\n",
       "    }\n",
       "</style>\n",
       "<table border=\"1\" class=\"dataframe\">\n",
       "  <thead>\n",
       "    <tr style=\"text-align: right;\">\n",
       "      <th></th>\n",
       "      <th>season</th>\n",
       "      <th>profit</th>\n",
       "    </tr>\n",
       "  </thead>\n",
       "  <tbody>\n",
       "    <tr>\n",
       "      <th>0</th>\n",
       "      <td>autumn</td>\n",
       "      <td>67185465.5</td>\n",
       "    </tr>\n",
       "    <tr>\n",
       "      <th>1</th>\n",
       "      <td>spring</td>\n",
       "      <td>76186013.7</td>\n",
       "    </tr>\n",
       "    <tr>\n",
       "      <th>2</th>\n",
       "      <td>summer</td>\n",
       "      <td>88931116.4</td>\n",
       "    </tr>\n",
       "    <tr>\n",
       "      <th>3</th>\n",
       "      <td>winter</td>\n",
       "      <td>45162682.2</td>\n",
       "    </tr>\n",
       "  </tbody>\n",
       "</table>\n",
       "</div>"
      ],
      "text/plain": [
       "   season      profit\n",
       "0  autumn  67185465.5\n",
       "1  spring  76186013.7\n",
       "2  summer  88931116.4\n",
       "3  winter  45162682.2"
      ]
     },
     "execution_count": 42,
     "metadata": {},
     "output_type": "execute_result"
    }
   ],
   "source": [
    "df4 = df_sell[['profit', 'season']].groupby(['season']).sum().reset_index()\n",
    "df4"
   ]
  },
  {
   "cell_type": "code",
   "execution_count": 43,
   "id": "b0def4f0-07a3-4b1c-80a1-ecf485aadc38",
   "metadata": {},
   "outputs": [
    {
     "data": {
      "image/png": "[encoded data removed]",
      "text/plain": [
       "<Figure size 720x360 with 1 Axes>"
      ]
     },
     "metadata": {
      "needs_background": "light"
     },
     "output_type": "display_data"
    }
   ],
   "source": [
    "plt.figure(figsize=(10,5))\n",
    "sns.barplot(data=df4, x='season', y='profit')\n",
    "plt.show()"
   ]
  },
  {
   "cell_type": "code",
   "execution_count": 44,
   "id": "476762af-f0c8-45c1-897a-6e08fbde21f0",
   "metadata": {},
   "outputs": [
    {
     "data": {
      "text/plain": [
       "277465277.8"
      ]
     },
     "execution_count": 44,
     "metadata": {},
     "output_type": "execute_result"
    }
   ],
   "source": [
    "df_sell['profit'].sum()"
   ]
  },
  {
   "cell_type": "markdown",
   "id": "5d84ee02-10a0-4968-8394-12d76d480513",
   "metadata": {
    "id": "5d84ee02-10a0-4968-8394-12d76d480513"
   },
   "source": [
    "### Total Profit"
   ]
  },
  {
   "cell_type": "code",
   "execution_count": 27,
   "id": "54acf592-1f11-4a5c-910b-8a1b7e5216c8",
   "metadata": {
    "colab": {
     "base_uri": "https://localhost:8080/"
    },
    "id": "54acf592-1f11-4a5c-910b-8a1b7e5216c8",
    "outputId": "7e768c49-4273-4f16-a1fd-247c684a3ab8"
   },
   "outputs": [
    {
     "name": "stdout",
     "output_type": "stream",
     "text": [
      "Total properties suggested to be purchased: 3844\n",
      "Total investment amount: 1,517,762,900.00\n",
      "Total return over investment: 1,795,228,177.80\n",
      "Total % return over investment: 18.28%\n"
     ]
    }
   ],
   "source": [
    "total_profit = total_sell + value_total\n",
    "perc = (total_profit - value_total) / value_total\n",
    "print(f'Total properties suggested to be purchased: {df2.shape[0]}')\n",
    "print(f'Total investment amount: {value_total:,.2f}')\n",
    "print(f'Total return over investment: {total_profit:,.2f}')\n",
    "print(f'Total % return over investment: {perc:.2%}')"
   ]
  },
  {
   "cell_type": "markdown",
   "id": "3fc66b15-1168-479b-aea6-49bcb0e94485",
   "metadata": {
    "id": "e6e74746-a35c-42f6-8e61-c764a7c0b028"
   },
   "source": [
    "### Hypothesis Analysis"
   ]
  },
  {
   "cell_type": "markdown",
   "id": "0f202733-2dda-45ca-8cf2-fc2fd9a142bb",
   "metadata": {},
   "source": [
    "##### H1: Properties with waterview are on average 50% more expensive."
   ]
  },
  {
   "cell_type": "code",
   "execution_count": 20,
   "id": "cfe1f1b6-f11d-49c6-9406-da6cebc72bd2",
   "metadata": {},
   "outputs": [
    {
     "name": "stdout",
     "output_type": "stream",
     "text": [
      "H1: True. Properties with waterview are on average 211.76% more expensive.\n"
     ]
    },
    {
     "data": {
      "image/png": "[encoded data removed]",
      "text/plain": [
       "<Figure size 720x360 with 1 Axes>"
      ]
     },
     "metadata": {
      "needs_background": "light"
     },
     "output_type": "display_data"
    }
   ],
   "source": [
    "h1 = data[['price', 'waterfront']].groupby('waterfront').mean().reset_index()\n",
    "perc = (h1.loc[1, 'price'] - h1.loc[0, 'price']) / h1.loc[0, 'price']\n",
    "print(f'H1: True. Properties with waterview are on average {perc:.2%} more expensive.')\n",
    "\n",
    "plt.figure(figsize=(10,5))\n",
    "sns.barplot(data=h1, x='waterfront', y='price')\n",
    "plt.show()\n"
   ]
  },
  {
   "cell_type": "markdown",
   "id": "6a085e58-e6ae-4e23-b7f5-bbde94782b24",
   "metadata": {},
   "source": [
    "##### H2: Properties with basement are on average 20% more expensive."
   ]
  },
  {
   "cell_type": "code",
   "execution_count": 21,
   "id": "7600d7b0-44c9-46dd-863a-66f6f8cdd1b3",
   "metadata": {},
   "outputs": [
    {
     "name": "stdout",
     "output_type": "stream",
     "text": [
      "H2: True. Properties with basement are on average 27.76% more expensive.\n"
     ]
    },
    {
     "data": {
      "image/png": "[encoded data removed]",
      "text/plain": [
       "<Figure size 720x360 with 1 Axes>"
      ]
     },
     "metadata": {
      "needs_background": "light"
     },
     "output_type": "display_data"
    }
   ],
   "source": [
    "df_aux = data.copy()\n",
    "df_aux['basement'] = df_aux['m2_basement'].apply(lambda x: 0 if x == 0 else 1)\n",
    "h2 = df_aux[['price', 'basement']].groupby('basement').mean().reset_index()\n",
    "perc = (h2.loc[1, 'price'] - h2.loc[0, 'price']) / h2.loc[0, 'price']\n",
    "print(f'H2: True. Properties with basement are on average {perc:.2%} more expensive.')\n",
    "\n",
    "plt.figure(figsize=(10,5))\n",
    "sns.barplot(data=h2, x='basement', y='price')\n",
    "plt.show()\n"
   ]
  },
  {
   "cell_type": "markdown",
   "id": "750e0e62-5f34-4276-9b03-fabdda6d555d",
   "metadata": {},
   "source": [
    "##### H3: Properties built with basements decreased over the years."
   ]
  },
  {
   "cell_type": "code",
   "execution_count": 22,
   "id": "26ecb321-e311-4cfd-84e9-f4d8e5b5cb68",
   "metadata": {},
   "outputs": [
    {
     "name": "stdout",
     "output_type": "stream",
     "text": [
      "H3: True. Properties built with basements decreased after 1980.\n"
     ]
    },
    {
     "data": {
      "image/png": "[encoded data removed]",
      "text/plain": [
       "<Figure size 720x360 with 1 Axes>"
      ]
     },
     "metadata": {
      "needs_background": "light"
     },
     "output_type": "display_data"
    }
   ],
   "source": [
    "b1 = data[data['m2_basement']!=0][['m2_basement','yr_built']].groupby('yr_built').count().reset_index()\n",
    "b2 = data[data['m2_basement']==0][['m2_basement','yr_built']].groupby('yr_built').count().reset_index()\n",
    "h3 = pd.merge(b1, b2, on='yr_built', how='left').rename(columns={'m2_basement_x': 'with_basemement', 'm2_basement_y': 'without_basement'})\n",
    "print('H3: True. Properties built with basements decreased after 1980.')\n",
    "\n",
    "plt.figure(figsize=(10,5))\n",
    "plt.plot(h3['yr_built'], h3['with_basemement'], color='blue', label='With basement')\n",
    "plt.plot(h3['yr_built'], h3['without_basement'], color='red', label='Without basement')\n",
    "plt.legend()\n",
    "plt.show()"
   ]
  },
  {
   "cell_type": "markdown",
   "id": "d301377a-7032-4561-ba38-7d0b170169d9",
   "metadata": {},
   "source": [
    "##### H4: Properties have bigger interior living space along construction year timeline."
   ]
  },
  {
   "cell_type": "code",
   "execution_count": 23,
   "id": "3d90300c-d198-4192-a4d4-0c1d26ff9558",
   "metadata": {},
   "outputs": [
    {
     "name": "stdout",
     "output_type": "stream",
     "text": [
      "H4: Properties have bigger interior living space incresead after 1940.\n"
     ]
    },
    {
     "data": {
      "image/png": "[encoded data removed]",
      "text/plain": [
       "<Figure size 720x360 with 1 Axes>"
      ]
     },
     "metadata": {
      "needs_background": "light"
     },
     "output_type": "display_data"
    }
   ],
   "source": [
    "h4 = data[['m2_living', 'yr_built']].groupby('yr_built').mean().reset_index()\n",
    "print('H4: Properties have bigger interior living space incresead after 1940.')\n",
    "plt.figure(figsize=(10,5))\n",
    "sns.lineplot(data=h4, x='yr_built', y='m2_living')\n",
    "plt.show()"
   ]
  },
  {
   "cell_type": "markdown",
   "id": "bf4656e9-b913-49a0-910b-f30c5a0149f2",
   "metadata": {},
   "source": [
    "##### H5: Properties available during summer are more expensive."
   ]
  },
  {
   "cell_type": "markdown",
   "id": "ce22f731-b34c-4646-af0b-d8f1928358a1",
   "metadata": {},
   "source": [
    "    "
   ]
  },
  {
   "cell_type": "code",
   "execution_count": 24,
   "id": "86d3238a-d5ca-47f6-980c-d9bb5ac00c95",
   "metadata": {},
   "outputs": [
    {
     "name": "stdout",
     "output_type": "stream",
     "text": [
      "H5: False. Properties available during spring are more expensive on average than other seasons.\n"
     ]
    },
    {
     "data": {
      "image/png": "[encoded data removed]",
      "text/plain": [
       "<Figure size 720x360 with 1 Axes>"
      ]
     },
     "metadata": {
      "needs_background": "light"
     },
     "output_type": "display_data"
    }
   ],
   "source": [
    "h5 = data[['season', 'price']].groupby('season').mean().reset_index()\n",
    "print('H5: False. Properties available during spring are more expensive on average than other seasons.')\n",
    "plt.figure(figsize=(10,5))\n",
    "sns.barplot(data=h5, x='season', y='price')\n",
    "plt.show()"
   ]
  },
  {
   "cell_type": "markdown",
   "id": "5cc307ad-95d0-4837-873e-c4fd4e71318e",
   "metadata": {},
   "source": [
    "##### H6: Properties that have not been renovated are 30% cheaper."
   ]
  },
  {
   "cell_type": "code",
   "execution_count": 25,
   "id": "ac1eef08-6bd3-49b1-b270-d08310c6bdec",
   "metadata": {},
   "outputs": [
    {
     "name": "stdout",
     "output_type": "stream",
     "text": [
      "H6: True. Properties that have not been renovated are 43.29% more cheaper.\n"
     ]
    },
    {
     "data": {
      "image/png": "[encoded data removed]",
      "text/plain": [
       "<Figure size 720x360 with 1 Axes>"
      ]
     },
     "metadata": {
      "needs_background": "light"
     },
     "output_type": "display_data"
    }
   ],
   "source": [
    "df_aux2 = data[['price', 'yr_renovated']].copy()\n",
    "df_aux2['renovated'] = df_aux2.apply(lambda x: 'No' if x['yr_renovated']==0 else 'Yes', axis=1)\n",
    "h6 = df_aux2[['price', 'renovated']].groupby('renovated').mean().reset_index()\n",
    "perc = (h6.loc[1, 'price'] - h6.loc[0, 'price']) / h6.loc[0, 'price']\n",
    "print(f'H6: True. Properties that have not been renovated are {perc:.2%} more cheaper.')\n",
    "plt.figure(figsize=(10,5))\n",
    "sns.barplot(data=h6, x='renovated', y='price')\n",
    "plt.show()\n"
   ]
  }
 ],
 "metadata": {
  "colab": {
   "collapsed_sections": [],
   "name": "P0001_house_rocket.ipynb",
   "provenance": []
  },
  "kernelspec": {
   "display_name": "Python 3 (ipykernel)",
   "language": "python",
   "name": "python3"
  },
  "language_info": {
   "codemirror_mode": {
    "name": "ipython",
    "version": 3
   },
   "file_extension": ".py",
   "mimetype": "text/x-python",
   "name": "python",
   "nbconvert_exporter": "python",
   "pygments_lexer": "ipython3",
   "version": "3.10.4"
  }
 },
 "nbformat": 4,
 "nbformat_minor": 5
}
